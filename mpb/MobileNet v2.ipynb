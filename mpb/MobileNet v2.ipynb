{
 "cells": [
  {
   "cell_type": "code",
   "execution_count": 1,
   "metadata": {},
   "outputs": [
    {
     "name": "stdout",
     "output_type": "stream",
     "text": [
      "cuda:0\n"
     ]
    }
   ],
   "source": [
    "import torch\n",
    "import numpy as np\n",
    "from torch.utils import data\n",
    "from torch.utils.tensorboard import SummaryWriter\n",
    "import torch.nn as nn\n",
    "from torchvision import transforms, models\n",
    "\n",
    "import pickle\n",
    "import tensorflow as tf\n",
    "import time\n",
    "\n",
    "import matplotlib.pyplot as plt\n",
    "%matplotlib inline\n",
    "\n",
    "if torch.cuda.is_available():  \n",
    "    DEVICE = \"cuda:0\" \n",
    "else:  \n",
    "    DEVICE = \"cpu\"\n",
    "print(DEVICE)"
   ]
  },
  {
   "cell_type": "code",
   "execution_count": 2,
   "metadata": {},
   "outputs": [],
   "source": [
    "writer = SummaryWriter(comment = '_mobileNet-v2')"
   ]
  },
  {
   "cell_type": "markdown",
   "metadata": {},
   "source": [
    "### Load & Preprocessing  Data"
   ]
  },
  {
   "cell_type": "code",
   "execution_count": 3,
   "metadata": {},
   "outputs": [],
   "source": [
    "# Comes in:\n",
    "# x: N x 32 x 32 x 3\n",
    "# y: N x 1\n",
    "(x_train, y_train), (x_test, y_test) = tf.keras.datasets.cifar100.load_data(label_mode='fine')\n",
    "\n",
    "x_train = np.transpose(x_train, [0, 3, 1, 2]) # x: N x 3 x 32 x 32 \n",
    "x_test = np.transpose(x_test, [0, 3, 1, 2]) # x: N x 3 x 32 x 32 \n",
    "x_train, x_test = x_train / 256, x_test / 256 # Normalize to [0, 1]"
   ]
  },
  {
   "cell_type": "code",
   "execution_count": 4,
   "metadata": {},
   "outputs": [],
   "source": [
    "train_preprocess = transforms.Compose([\n",
    "    transforms.RandomResizedCrop(224),\n",
    "    transforms.RandomHorizontalFlip(),\n",
    "    #transforms.ToTensor(),\n",
    "    transforms.Normalize(mean=[0.485, 0.456, 0.406], std=[0.229, 0.224, 0.225]),\n",
    "])\n",
    "\n",
    "preprocess = transforms.Compose([\n",
    "    transforms.Resize(224),\n",
    "    transforms.CenterCrop(224),\n",
    "    #transforms.ToTensor(),\n",
    "    transforms.Normalize(mean=[0.485, 0.456, 0.406], std=[0.229, 0.224, 0.225]),\n",
    "])"
   ]
  },
  {
   "cell_type": "code",
   "execution_count": 5,
   "metadata": {},
   "outputs": [],
   "source": [
    "X_train = torch.tensor(x_train).float()\n",
    "X_test = torch.tensor(x_test).float()\n",
    "y_train = torch.tensor(y_train).squeeze().long()\n",
    "y_test = torch.tensor(y_test).squeeze().long()"
   ]
  },
  {
   "cell_type": "code",
   "execution_count": 6,
   "metadata": {},
   "outputs": [],
   "source": [
    "class Dataset(data.Dataset):\n",
    "    def __init__(self, data, labels, flag = 'eval'):\n",
    "        self.data = data\n",
    "        self.labels = labels\n",
    "        self.flag = flag \n",
    "        \n",
    "    def __len__(self):\n",
    "        return len(self.labels)\n",
    "    \n",
    "    # Get one sample\n",
    "    def __getitem__(self, index):\n",
    "        if self.flag == 'eval':\n",
    "            return preprocess(self.data[index]), self.labels[index]\n",
    "        elif self.flag == 'train':\n",
    "            return train_preprocess(self.data[index]), self.labels[index]"
   ]
  },
  {
   "cell_type": "code",
   "execution_count": 7,
   "metadata": {},
   "outputs": [],
   "source": [
    "# Put into dataloader\n",
    "trainset = Dataset(X_train, y_train, flag = 'train')\n",
    "trainloader = data.DataLoader(trainset, batch_size=100, shuffle=True, num_workers=2)\n",
    "\n",
    "train4eval = Dataset(X_train, y_train)\n",
    "evalloader = data.DataLoader(train4eval, batch_size=100, shuffle=False, num_workers=2)\n",
    "\n",
    "testset = Dataset(X_test, y_test)\n",
    "testloader = data.DataLoader(testset, batch_size=100, shuffle=False, num_workers=2)"
   ]
  },
  {
   "cell_type": "markdown",
   "metadata": {},
   "source": [
    "### Model"
   ]
  },
  {
   "cell_type": "code",
   "execution_count": 8,
   "metadata": {},
   "outputs": [],
   "source": [
    "model = models.mobilenet_v2(pretrained=True)\n",
    "num_classes = 100\n",
    "model.fc = nn.Linear(512, num_classes)"
   ]
  },
  {
   "cell_type": "code",
   "execution_count": 9,
   "metadata": {},
   "outputs": [],
   "source": [
    "## Training Routine\n",
    "def training_routine(model, train_generator, test_generator, n_epochs, writer = writer,  \n",
    "                     eval_every=5):\n",
    "    train_generator, eval_generator = train_generator\n",
    "    \n",
    "    model.to(DEVICE)\n",
    "    criterion = nn.CrossEntropyLoss()\n",
    "    optimizer = torch.optim.SGD(model.parameters(), lr =0.01, \n",
    "                                momentum = 0.9, weight_decay = 0.001)\n",
    "    scheduler = torch.optim.lr_scheduler.StepLR(optimizer, step_size=5, gamma = 0.8)\n",
    "    #optimizer = torch.optim.RMSprop(model.parameters(), lr =0.045, \n",
    "    #                            momentum = 0.9, weight_decay = 0.00004)\n",
    "    #scheduler = torch.optim.lr_scheduler.StepLR(optimizer, step_size=1, gamma = 0.98)\n",
    "    accuracies = []\n",
    "    \n",
    "    for i in range(n_epochs):\n",
    "        # Iterate over batches\n",
    "        batch_losses = []\n",
    "        \n",
    "        for X_batch, y_batch in train_generator:\n",
    "            optimizer.zero_grad()\n",
    "            # forward pass\n",
    "            X_batch, y_batch = X_batch.to(DEVICE), y_batch.to(DEVICE)\n",
    "            batch_output = model(X_batch)\n",
    "            batch_loss = criterion(batch_output, y_batch)\n",
    "            # backward pass and optimization\n",
    "            batch_loss.backward()\n",
    "            optimizer.step()\n",
    "            batch_losses.append(batch_loss.cpu().detach())\n",
    "        print(\"Epoch {} | training loss: {}\".format(i, np.mean(batch_losses)))\n",
    "        writer.add_scalar('Loss/train', np.mean(batch_losses), i)\n",
    "        scheduler.step()\n",
    "        \n",
    "        # Once every 100 iterations, print statistics\n",
    "        if i%eval_every==0:\n",
    "            train_accuracy = []\n",
    "            test_accuracy = []\n",
    "            for X_batch, y_batch in eval_generator:\n",
    "                X_batch, y_batch = X_batch.to(DEVICE), y_batch.to(DEVICE)\n",
    "                batch_output = model(X_batch)\n",
    "                batch_prediction = batch_output.cpu().detach().argmax(dim=1)\n",
    "                train_accuracy.append((batch_prediction.numpy()==y_batch.cpu().numpy()).mean())\n",
    "                \n",
    "            for X_batch, y_batch in test_generator:\n",
    "                X_batch, y_batch = X_batch.to(DEVICE), y_batch.to(DEVICE)\n",
    "                batch_output = model(X_batch)\n",
    "                batch_prediction = batch_output.cpu().detach().argmax(dim=1)\n",
    "                test_accuracy.append((batch_prediction.numpy()==y_batch.cpu().numpy()).mean())\n",
    "            print(\"Epoch {} | train acc: {}, test acc: {}\".format(i, np.mean(train_accuracy), np.mean(test_accuracy)))\n",
    "            writer.add_scalar('Accuracy/train', np.mean(train_accuracy), i)\n",
    "            writer.add_scalar('Accuracy/test', np.mean(test_accuracy), i)\n",
    "            \n",
    "            accuracies.append((i, np.mean(train_accuracy), np.mean(test_accuracy)))\n",
    "            \n",
    "    return model.cpu(), accuracies"
   ]
  },
  {
   "cell_type": "code",
   "execution_count": 10,
   "metadata": {},
   "outputs": [
    {
     "name": "stdout",
     "output_type": "stream",
     "text": [
      "Epoch 0 | training loss: 3.6391971111297607\n",
      "Epoch 0 | train acc: 0.38718, test acc: 0.37709999999999994\n",
      "Epoch 1 | training loss: 2.448592185974121\n",
      "Epoch 2 | training loss: 2.0879106521606445\n",
      "Epoch 3 | training loss: 1.916553020477295\n",
      "Epoch 4 | training loss: 1.8218846321105957\n",
      "Epoch 5 | training loss: 1.6556181907653809\n",
      "Epoch 5 | train acc: 0.6844, test acc: 0.6317\n",
      "Epoch 6 | training loss: 1.608718752861023\n",
      "Epoch 7 | training loss: 1.5602279901504517\n",
      "Epoch 8 | training loss: 1.5233337879180908\n",
      "Epoch 9 | training loss: 1.4860268831253052\n",
      "Epoch 10 | training loss: 1.3868447542190552\n",
      "Epoch 10 | train acc: 0.7512000000000001, test acc: 0.6817\n",
      "Epoch 11 | training loss: 1.362863302230835\n",
      "Epoch 12 | training loss: 1.347928762435913\n",
      "Epoch 13 | training loss: 1.3351447582244873\n",
      "Epoch 14 | training loss: 1.3268625736236572\n",
      "Epoch 15 | training loss: 1.2363476753234863\n",
      "Epoch 15 | train acc: 0.7854800000000001, test acc: 0.6966000000000001\n",
      "Epoch 16 | training loss: 1.2234251499176025\n",
      "Epoch 17 | training loss: 1.219288945198059\n",
      "Epoch 18 | training loss: 1.2181869745254517\n",
      "Epoch 19 | training loss: 1.2118672132492065\n",
      "Epoch 20 | training loss: 1.1361132860183716\n",
      "Epoch 20 | train acc: 0.81324, test acc: 0.7139\n",
      "Epoch 21 | training loss: 1.1190565824508667\n",
      "Epoch 22 | training loss: 1.1108061075210571\n",
      "Epoch 23 | training loss: 1.1168407201766968\n",
      "Epoch 24 | training loss: 1.1111304759979248\n",
      "Epoch 25 | training loss: 1.0422214269638062\n",
      "Epoch 25 | train acc: 0.8308600000000002, test acc: 0.7143\n",
      "Epoch 26 | training loss: 1.030006766319275\n",
      "Epoch 27 | training loss: 1.0360559225082397\n",
      "Epoch 28 | training loss: 1.030063271522522\n",
      "Epoch 29 | training loss: 1.0188570022583008\n",
      "Epoch 30 | training loss: 0.9635254144668579\n",
      "Epoch 30 | train acc: 0.85374, test acc: 0.7277000000000001\n",
      "Epoch 31 | training loss: 0.9463625550270081\n",
      "Epoch 32 | training loss: 0.9416555166244507\n",
      "Epoch 33 | training loss: 0.9406453967094421\n",
      "Epoch 34 | training loss: 0.9373763203620911\n",
      "Epoch 35 | training loss: 0.8909916877746582\n",
      "Epoch 35 | train acc: 0.8736400000000001, test acc: 0.7306999999999999\n",
      "Epoch 36 | training loss: 0.8689607977867126\n",
      "Epoch 37 | training loss: 0.8687635660171509\n",
      "Epoch 38 | training loss: 0.86900794506073\n",
      "Epoch 39 | training loss: 0.8682088255882263\n",
      "Epoch 40 | training loss: 0.8216935992240906\n",
      "Epoch 40 | train acc: 0.88154, test acc: 0.7304999999999999\n",
      "Epoch 41 | training loss: 0.7982584238052368\n",
      "Epoch 42 | training loss: 0.8075007200241089\n",
      "Epoch 43 | training loss: 0.8009868264198303\n",
      "Epoch 44 | training loss: 0.8015750646591187\n",
      "Epoch 45 | training loss: 0.7682031989097595\n",
      "Epoch 45 | train acc: 0.89892, test acc: 0.7415\n",
      "Epoch 46 | training loss: 0.7388843297958374\n",
      "Epoch 47 | training loss: 0.751160740852356\n",
      "Epoch 48 | training loss: 0.7468135952949524\n",
      "Epoch 49 | training loss: 0.7419560551643372\n",
      "Epoch 50 | training loss: 0.694503664970398\n",
      "Epoch 50 | train acc: 0.9110199999999999, test acc: 0.7434999999999999\n",
      "199.48995974461238\n"
     ]
    }
   ],
   "source": [
    "start = time.time()\n",
    "trained_net, accuracies = training_routine(model, (trainloader, evalloader), testloader, 51)\n",
    "end = time.time()\n",
    "print((end - start)/60) "
   ]
  },
  {
   "cell_type": "code",
   "execution_count": 11,
   "metadata": {},
   "outputs": [],
   "source": [
    "model_dict = trained_net.state_dict()\n",
    "torch.save(model_dict, \"mobileNet\")"
   ]
  },
  {
   "cell_type": "code",
   "execution_count": 12,
   "metadata": {},
   "outputs": [
    {
     "data": {
      "text/plain": [
       "<All keys matched successfully>"
      ]
     },
     "execution_count": 12,
     "metadata": {},
     "output_type": "execute_result"
    }
   ],
   "source": [
    "# Load some version of saved model\n",
    "model = models.mobilenet_v2(pretrained=True)\n",
    "model.fc = nn.Linear(512, num_classes)\n",
    "state_dict = torch.load(\"mobileNet\")\n",
    "model.load_state_dict(state_dict)"
   ]
  },
  {
   "cell_type": "markdown",
   "metadata": {},
   "source": [
    "### Evaluation"
   ]
  },
  {
   "cell_type": "code",
   "execution_count": 13,
   "metadata": {},
   "outputs": [],
   "source": [
    "y_pred = []\n",
    "model = model.cuda()\n",
    "for local_batch, local_labels in testloader:\n",
    "    local_batch, local_labels = local_batch.cuda(), local_labels.cuda()\n",
    "    batch_output = model(local_batch)\n",
    "    batch_prediction = batch_output.cpu().detach().argmax(dim=1)\n",
    "    y_pred.append(batch_prediction)\n",
    "y_pred = torch.cat(y_pred).numpy()"
   ]
  },
  {
   "cell_type": "code",
   "execution_count": 14,
   "metadata": {},
   "outputs": [
    {
     "data": {
      "text/plain": [
       "<matplotlib.colorbar.Colorbar at 0x7f444fde9c70>"
      ]
     },
     "execution_count": 14,
     "metadata": {},
     "output_type": "execute_result"
    },
    {
     "data": {
      "image/png": "[encoded data removed]",
      "text/plain": [
       "<Figure size 432x288 with 2 Axes>"
      ]
     },
     "metadata": {
      "needs_background": "light"
     },
     "output_type": "display_data"
    }
   ],
   "source": [
    "from sklearn.metrics import f1_score, precision_score, recall_score, classification_report, confusion_matrix\n",
    "n_classes = 100\n",
    "\n",
    "import matplotlib.pyplot as plt\n",
    "%matplotlib inline\n",
    "plt.imshow(confusion_matrix(y_test, y_pred, labels=range(n_classes)))\n",
    "plt.colorbar()"
   ]
  },
  {
   "cell_type": "code",
   "execution_count": 15,
   "metadata": {},
   "outputs": [
    {
     "data": {
      "text/plain": [
       "Text(0.5, 0, '# of Epochs')"
      ]
     },
     "execution_count": 15,
     "metadata": {},
     "output_type": "execute_result"
    },
    {
     "data": {
      "image/png": "[encoded data removed]",
      "text/plain": [
       "<Figure size 432x288 with 1 Axes>"
      ]
     },
     "metadata": {
      "needs_background": "light"
     },
     "output_type": "display_data"
    }
   ],
   "source": [
    "accuracies = np.array(accuracies)\n",
    "fig, ax = plt.subplots(1, 1, figsize = (6, 4))\n",
    "ax.plot(accuracies[:, 0], accuracies[:, 1], label = \"Train\")\n",
    "ax.plot(accuracies[:, 0], accuracies[:, 2], label = 'Test')\n",
    "ax.legend(fontsize = 10)\n",
    "ax.set_xlim((0,50))\n",
    "ax.set_ylabel('Accuarcy', fontsize = 12)\n",
    "ax.set_xlabel(\"# of Epochs\", fontsize = 12)"
   ]
  },
  {
   "cell_type": "code",
   "execution_count": null,
   "metadata": {},
   "outputs": [],
   "source": []
  },
  {
   "cell_type": "code",
   "execution_count": null,
   "metadata": {},
   "outputs": [],
   "source": []
  }
 ],
 "metadata": {
  "kernelspec": {
   "display_name": "Python 3",
   "language": "python",
   "name": "python3"
  },
  "language_info": {
   "codemirror_mode": {
    "name": "ipython",
    "version": 3
   },
   "file_extension": ".py",
   "mimetype": "text/x-python",
   "name": "python",
   "nbconvert_exporter": "python",
   "pygments_lexer": "ipython3",
   "version": "3.8.3"
  }
 },
 "nbformat": 4,
 "nbformat_minor": 2
}
