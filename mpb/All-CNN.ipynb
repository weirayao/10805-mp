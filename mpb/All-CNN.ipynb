{
 "cells": [
  {
   "cell_type": "code",
   "execution_count": 1,
   "metadata": {},
   "outputs": [
    {
     "name": "stdout",
     "output_type": "stream",
     "text": [
      "cuda:0\n"
     ]
    }
   ],
   "source": [
    "from utils import count_params\n",
    "import preprocessing as preprocess\n",
    "import torch\n",
    "import numpy as np\n",
    "from torch.utils import data\n",
    "from torch.utils.tensorboard import SummaryWriter\n",
    "import torch.nn as nn\n",
    "import pickle\n",
    "import tensorflow as tf\n",
    "import time\n",
    "\n",
    "if torch.cuda.is_available():  \n",
    "    DEVICE = \"cuda:0\" \n",
    "else:  \n",
    "    DEVICE = \"cpu\" \n",
    "print(DEVICE)"
   ]
  },
  {
   "cell_type": "code",
   "execution_count": 2,
   "metadata": {},
   "outputs": [],
   "source": [
    "writer = SummaryWriter(comment = '_all-cnn')"
   ]
  },
  {
   "cell_type": "markdown",
   "metadata": {},
   "source": [
    "### Load & Preprocessing  Data"
   ]
  },
  {
   "cell_type": "code",
   "execution_count": 3,
   "metadata": {},
   "outputs": [],
   "source": [
    "(x_train, y_train), (x_test, y_test) = tf.keras.datasets.cifar100.load_data(label_mode='fine')\n",
    "# x: N x 32 x 32 x 3\n",
    "# y: N x 1"
   ]
  },
  {
   "cell_type": "code",
   "execution_count": 4,
   "metadata": {},
   "outputs": [
    {
     "name": "stdout",
     "output_type": "stream",
     "text": [
      "Pre-processing data\n"
     ]
    }
   ],
   "source": [
    "n_train = x_train.shape[0]\n",
    "x_train = np.moveaxis(x_train, -1, 1).reshape(n_train, -1)\n",
    "n_test = x_test.shape[0]\n",
    "x_test = np.moveaxis(x_test, -1, 1).reshape(n_test, -1)\n",
    "\n",
    "## Expects x_train, x_test in N x 3072, which reshapes to N x 3 x 32 x 32\n",
    "# Returns: x_train, x_test in N x 3 x 32 x 32\n",
    "X_train, X_test = preprocess.cifar_10_preprocess(x_train, x_test)"
   ]
  },
  {
   "cell_type": "code",
   "execution_count": 5,
   "metadata": {},
   "outputs": [],
   "source": [
    "X_train = torch.tensor(X_train).float()\n",
    "X_test = torch.tensor(X_test).float()\n",
    "y_train = torch.tensor(y_train).squeeze().long()\n",
    "y_test = torch.tensor(y_test).squeeze().long()"
   ]
  },
  {
   "cell_type": "code",
   "execution_count": 6,
   "metadata": {},
   "outputs": [],
   "source": [
    "class Dataset(data.Dataset):\n",
    "    def __init__(self, data, labels):\n",
    "        self.data = data\n",
    "        self.labels = labels\n",
    "        \n",
    "    def __len__(self):\n",
    "        return len(self.labels)\n",
    "    \n",
    "    # Get one sample\n",
    "    def __getitem__(self, index):\n",
    "        return self.data[index], self.labels[index]"
   ]
  },
  {
   "cell_type": "code",
   "execution_count": 7,
   "metadata": {},
   "outputs": [],
   "source": [
    "# Put into dataloader\n",
    "trainset = Dataset(X_train, y_train)\n",
    "trainloader = data.DataLoader(trainset, batch_size=500, shuffle=True, num_workers=2)\n",
    "testset = Dataset(X_test, y_test)\n",
    "testloader = data.DataLoader(testset, batch_size=500, shuffle=False, num_workers=2)"
   ]
  },
  {
   "cell_type": "markdown",
   "metadata": {},
   "source": [
    "### Model"
   ]
  },
  {
   "cell_type": "code",
   "execution_count": 2,
   "metadata": {},
   "outputs": [],
   "source": [
    "class Flatten(nn.Module):\n",
    "    \"\"\"\n",
    "    Implement a simple custom module that reshapes (n, m, 1, 1) tensors to (n, m).\n",
    "    \"\"\"\n",
    "    def forward(self, input):\n",
    "        size = input.size()\n",
    "        return input.view(size[0], size[1])\n",
    "\n",
    "# CNN Model (2 conv layer)\n",
    "class CNN(nn.Module):\n",
    "    def __init__(self):\n",
    "        super(CNN, self).__init__()\n",
    "        self.layer1 = nn.Sequential(\n",
    "            nn.Dropout(p=0.2),\n",
    "            nn.Conv2d(3, 96, kernel_size=3, padding=1),\n",
    "            nn.BatchNorm2d(96),\n",
    "            nn.ReLU(),\n",
    "            nn.Conv2d(96, 96, kernel_size=3, padding=1),\n",
    "            nn.BatchNorm2d(96),\n",
    "            nn.ReLU(),\n",
    "            nn.Conv2d(96, 96, kernel_size=3, stride=2, padding=1),\n",
    "            nn.BatchNorm2d(96),\n",
    "            nn.ReLU())\n",
    "        self.layer2 = nn.Sequential(\n",
    "            nn.Dropout(p=0.5),\n",
    "            nn.Conv2d(96, 192, kernel_size=3, padding=1),\n",
    "            nn.BatchNorm2d(192),\n",
    "            nn.ReLU(),\n",
    "            nn.Conv2d(192, 192, kernel_size=3, padding=1),\n",
    "            nn.BatchNorm2d(192),\n",
    "            nn.ReLU(),\n",
    "            nn.Conv2d(192, 192, kernel_size=3, padding=1, stride=2),\n",
    "            nn.BatchNorm2d(192),\n",
    "            nn.ReLU())\n",
    "        self.layer3 = nn.Sequential(\n",
    "            nn.Dropout(p=0.5),\n",
    "            nn.Conv2d(192, 192, kernel_size=3, padding=0, stride=1),\n",
    "            nn.BatchNorm2d(192),\n",
    "            nn.ReLU(),\n",
    "            nn.Conv2d(192, 192, kernel_size=1, padding=0, stride=1),\n",
    "            nn.BatchNorm2d(192),\n",
    "            nn.ReLU(),\n",
    "            nn.Conv2d(192, 100, kernel_size=1, padding=0, stride=1),\n",
    "            nn.BatchNorm2d(100),\n",
    "            nn.ReLU(),\n",
    "            nn.AvgPool2d(6),\n",
    "            Flatten())\n",
    "        \n",
    "    def forward(self, x):\n",
    "        out = self.layer1(x)\n",
    "        out = self.layer2(out)\n",
    "        out = self.layer3(out)\n",
    "        #out = out.view(out.size(0), -1)\n",
    "        #out = self.fc(out)\n",
    "        return out\n"
   ]
  },
  {
   "cell_type": "code",
   "execution_count": 9,
   "metadata": {},
   "outputs": [],
   "source": [
    "## Training Routine\n",
    "def training_routine(model, train_generator, test_generator, n_epochs, writer = writer,  \n",
    "                     eval_every=5):\n",
    "    model.to(DEVICE)\n",
    "    criterion = nn.CrossEntropyLoss()\n",
    "    optimizer = torch.optim.SGD(model.parameters(), lr =0.01, \n",
    "                                momentum = 0.9, weight_decay = 0.001)\n",
    "    scheduler = torch.optim.lr_scheduler.StepLR(optimizer, step_size=5, gamma = 0.8)\n",
    "    accuracies = []\n",
    "    \n",
    "    for i in range(n_epochs):\n",
    "        # Iterate over batches\n",
    "        batch_losses = []\n",
    "        \n",
    "        for X_batch, y_batch in train_generator:\n",
    "            optimizer.zero_grad()\n",
    "            # forward pass\n",
    "            X_batch, y_batch = X_batch.to(DEVICE), y_batch.to(DEVICE)\n",
    "            batch_output = model(X_batch)\n",
    "            batch_loss = criterion(batch_output, y_batch)\n",
    "            # backward pass and optimization\n",
    "            batch_loss.backward()\n",
    "            optimizer.step()\n",
    "            batch_losses.append(batch_loss.cpu().detach())\n",
    "        print(\"Epoch {} | training loss: {}\".format(i, np.mean(batch_losses)))\n",
    "        writer.add_scalar('Loss/train', np.mean(batch_losses), i)\n",
    "        scheduler.step()\n",
    "        \n",
    "        # Once every 100 iterations, print statistics\n",
    "        if i%eval_every==0:\n",
    "            train_accuracy = []\n",
    "            test_accuracy = []\n",
    "            for X_batch, y_batch in train_generator:\n",
    "                X_batch, y_batch = X_batch.to(DEVICE), y_batch.to(DEVICE)\n",
    "                batch_output = model(X_batch)\n",
    "                batch_prediction = batch_output.cpu().detach().argmax(dim=1)\n",
    "                train_accuracy.append((batch_prediction.numpy()==y_batch.cpu().numpy()).mean())\n",
    "                \n",
    "            for X_batch, y_batch in test_generator:\n",
    "                X_batch, y_batch = X_batch.to(DEVICE), y_batch.to(DEVICE)\n",
    "                batch_output = model(X_batch)\n",
    "                batch_prediction = batch_output.cpu().detach().argmax(dim=1)\n",
    "                test_accuracy.append((batch_prediction.numpy()==y_batch.cpu().numpy()).mean())\n",
    "            print(\"Epoch {} | train acc: {}, test acc: {}\".format(i, np.mean(train_accuracy), np.mean(test_accuracy)))\n",
    "            writer.add_scalar('Accuracy/train', np.mean(train_accuracy), i)\n",
    "            writer.add_scalar('Accuracy/test', np.mean(test_accuracy), i)\n",
    "            \n",
    "            accuracies.append((i, np.mean(train_accuracy), np.mean(test_accuracy)))\n",
    "            \n",
    "    return model.cpu(), accuracies"
   ]
  },
  {
   "cell_type": "code",
   "execution_count": 4,
   "metadata": {},
   "outputs": [],
   "source": [
    "cnn = CNN()\n",
    "num = count_params(cnn)"
   ]
  },
  {
   "cell_type": "code",
   "execution_count": 5,
   "metadata": {},
   "outputs": [
    {
     "data": {
      "text/plain": [
       "1389804"
      ]
     },
     "execution_count": 5,
     "metadata": {},
     "output_type": "execute_result"
    }
   ],
   "source": [
    "num"
   ]
  },
  {
   "cell_type": "code",
   "execution_count": null,
   "metadata": {},
   "outputs": [
    {
     "name": "stdout",
     "output_type": "stream",
     "text": [
      "Epoch 0 | training loss: 4.493959426879883\n",
      "Epoch 0 | train acc: 0.05288, test acc: 0.05030000000000001\n",
      "Epoch 1 | training loss: 4.209875106811523\n"
     ]
    }
   ],
   "source": [
    "start = time.time()\n",
    "cnn = CNN()\n",
    "trained_net, accuracies = training_routine(cnn, trainloader, testloader, 51)\n",
    "end = time.time()\n",
    "print(end - start)"
   ]
  },
  {
   "cell_type": "code",
   "execution_count": null,
   "metadata": {},
   "outputs": [],
   "source": [
    "(end-start)/60"
   ]
  },
  {
   "cell_type": "code",
   "execution_count": null,
   "metadata": {},
   "outputs": [],
   "source": [
    "model_dict = trained_net.state_dict()\n",
    "torch.save(model_dict, \"all-cnn\")"
   ]
  },
  {
   "cell_type": "code",
   "execution_count": null,
   "metadata": {},
   "outputs": [],
   "source": [
    "# Load some version of saved model\n",
    "model = CNN()\n",
    "state_dict = torch.load('all-cnn')\n",
    "model.load_state_dict(state_dict)"
   ]
  },
  {
   "cell_type": "markdown",
   "metadata": {},
   "source": [
    "### Evaluation"
   ]
  },
  {
   "cell_type": "code",
   "execution_count": 7,
   "metadata": {},
   "outputs": [],
   "source": [
    "import torchvision.datasets as datasets\n",
    "from torchvision import transforms\n",
    "y_pred = []\n",
    "model = CNN()\n",
    "model = model.cuda()\n",
    "model.eval()\n",
    "normalize = transforms.Normalize(mean=[0.485, 0.456, 0.406],\n",
    "                                     std=[0.229, 0.224, 0.225])\n",
    "\n",
    "testloader = torch.utils.data.DataLoader(\n",
    "        datasets.CIFAR100(root='./data', train=False, transform=transforms.Compose([\n",
    "            transforms.ToTensor(),\n",
    "            normalize,\n",
    "        ])),\n",
    "        batch_size=100, shuffle=False,\n",
    "        num_workers=1, pin_memory=True)\n",
    "\n",
    "start = time.time()\n",
    "for local_batch, local_labels in testloader:\n",
    "    local_batch, local_labels = local_batch.cuda(), local_labels.cuda()\n",
    "    batch_output = model(local_batch)\n",
    "    batch_prediction = batch_output.cpu().detach().argmax(dim=1)\n",
    "    y_pred.append(batch_prediction)\n",
    "end = time.time()  \n",
    "\n",
    "y_pred = torch.cat(y_pred).numpy()"
   ]
  },
  {
   "cell_type": "code",
   "execution_count": 8,
   "metadata": {},
   "outputs": [
    {
     "data": {
      "text/plain": [
       "0.021364531517028808"
      ]
     },
     "execution_count": 8,
     "metadata": {},
     "output_type": "execute_result"
    }
   ],
   "source": [
    "(end-start)/100"
   ]
  },
  {
   "cell_type": "code",
   "execution_count": null,
   "metadata": {},
   "outputs": [],
   "source": [
    "from sklearn.metrics import f1_score, precision_score, recall_score, classification_report, confusion_matrix\n",
    "n_classes = 100\n",
    "\n",
    "import matplotlib.pyplot as plt\n",
    "%matplotlib inline\n",
    "plt.imshow(confusion_matrix(y_test, y_pred, labels=range(n_classes)))\n",
    "plt.colorbar()"
   ]
  },
  {
   "cell_type": "code",
   "execution_count": null,
   "metadata": {},
   "outputs": [],
   "source": [
    "accuracies = np.array(accuracies)\n",
    "fig, ax = plt.subplots(1, 1, figsize = (6, 4))\n",
    "ax.plot(accuracies[:, 0], accuracies[:, 1], label = \"Train\")\n",
    "ax.plot(accuracies[:, 0], accuracies[:, 2], label = 'Test')\n",
    "ax.legend(fontsize = 10)\n",
    "ax.set_xlim((0,50))\n",
    "ax.set_ylabel('Accuarcy', fontsize = 12)\n",
    "ax.set_xlabel(\"# of Epochs\", fontsize = 12)"
   ]
  },
  {
   "cell_type": "code",
   "execution_count": null,
   "metadata": {},
   "outputs": [],
   "source": []
  },
  {
   "cell_type": "code",
   "execution_count": null,
   "metadata": {},
   "outputs": [],
   "source": []
  }
 ],
 "metadata": {
  "kernelspec": {
   "display_name": "Python 3",
   "language": "python",
   "name": "python3"
  },
  "language_info": {
   "codemirror_mode": {
    "name": "ipython",
    "version": 3
   },
   "file_extension": ".py",
   "mimetype": "text/x-python",
   "name": "python",
   "nbconvert_exporter": "python",
   "pygments_lexer": "ipython3",
   "version": "3.8.3"
  }
 },
 "nbformat": 4,
 "nbformat_minor": 2
}
